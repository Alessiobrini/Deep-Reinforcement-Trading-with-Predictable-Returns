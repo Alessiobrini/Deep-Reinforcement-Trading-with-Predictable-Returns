{
 "cells": [
  {
   "cell_type": "code",
   "execution_count": null,
   "metadata": {},
   "outputs": [],
   "source": [
    "import os, glob, re\n",
    "from utils.readYaml import readConfigYaml\n",
    "from utils.format_tousands import format_tousands\n",
    "from tqdm import tqdm\n",
    "import numpy as np\n",
    "import pandas as pd\n",
    "import pdb\n",
    "import scipy.stats as stats\n",
    "\n",
    "# from IPython.display import ,HTML\n",
    "from IPython.core.display import display,HTML\n",
    "import subprocess\n",
    "\n",
    "# format for float to suppress/enable scientific notation\n",
    "# pd.set_option('display.float_format', '{:.2f}'.format)\n",
    "pd.set_option('display.float_format', '{:.2g}'.format)\n",
    "\n",
    "import matplotlib.pyplot as plt\n",
    "from matplotlib.offsetbox import AnchoredText\n",
    "from matplotlib.collections import LineCollection\n",
    "from matplotlib.colors import ListedColormap, BoundaryNorm\n",
    "%matplotlib inline\n",
    "\n",
    "import warnings\n",
    "warnings.filterwarnings(\"ignore\")"
   ]
  },
  {
   "cell_type": "code",
   "execution_count": null,
   "metadata": {},
   "outputs": [],
   "source": [
    "import seaborn as sns\n",
    "sns.set_style('darkgrid')\n",
    "plt.rcParams['figure.figsize'] = (20.0, 10.0)\n",
    "plt.rcParams['savefig.dpi'] = 90\n",
    "plt.rcParams['font.family'] = 'serif'\n",
    "plt.rcParams['font.size'] = 18\n",
    "plt.rcParams['agg.path.chunksize'] = 10000"
   ]
  },
  {
   "cell_type": "code",
   "execution_count": null,
   "metadata": {},
   "outputs": [],
   "source": [
    "#comment this part if you want to run the notebook through the python script\n",
    "# os.environ['FOLDER'] = \"outputs/FullTest20200526/OutSample_PER/1M/('KLM', '[50000, 10000, 200000]')_('max_experiences', '250000')_('use_PER', 'False')_('final_lr', '0.0001')\"\n",
    "# os.environ['N_TRAIN'] = '1M'\n",
    "# os.environ['FOLDER'] = \"outputs/FullTest20200528/OutSample_RLparams/1M/('steps_to_min_eps', '500000')_('max_experiences', '500000')_('copy_step', '5000')_('gamma', '0.9')\"\n",
    "# os.environ['N_TRAIN'] = '1M'\n"
   ]
  },
  {
   "cell_type": "code",
   "execution_count": null,
   "metadata": {},
   "outputs": [],
   "source": [
    "# copy data directory and filename for results then import config\n",
    "data_dir = os.environ['FOLDER']\n",
    "resfilename = 'Results_{}.parquet'.format(os.environ['N_TRAIN'])\n",
    "tablefilename = 'QTable{}.parquet'.format(os.environ['N_TRAIN'])\n",
    "p = readConfigYaml(os.path.join(data_dir,'config_{}.yaml'.format(os.environ['N_TRAIN'])))\n",
    "p_post = readConfigYaml('ExPostresults_Config.yaml')\n",
    "if p['out_of_sample_test']:\n",
    "    testresfilename = 'TestResults_{}.parquet'.format(format_tousands(p['N_test']))"
   ]
  },
  {
   "cell_type": "markdown",
   "metadata": {},
   "source": [
    "# Experiment parameters"
   ]
  },
  {
   "cell_type": "code",
   "execution_count": null,
   "metadata": {},
   "outputs": [],
   "source": [
    "print('%%%%%%%%%%%%%%%%%%%%%%%%%%%%%%%%%%%%%%%%%%%%%%%%%%%%%')\n",
    "print('MODEL')\n",
    "print()\n",
    "print(os.path.split(data_dir)[-1])\n",
    "print()\n",
    "print('%%%%%%%%%%%%%%%%%%%%%%%%%%%%%%%%%%%%%%%%%%%%%%%%%%%%%')"
   ]
  },
  {
   "cell_type": "code",
   "execution_count": null,
   "metadata": {},
   "outputs": [],
   "source": [
    "for k, v in p.items():\n",
    "    print (k,':',v)"
   ]
  },
  {
   "cell_type": "code",
   "execution_count": null,
   "metadata": {},
   "outputs": [],
   "source": [
    "for k, v in p_post.items():\n",
    "    print (k,':',v)"
   ]
  },
  {
   "cell_type": "code",
   "execution_count": null,
   "metadata": {},
   "outputs": [],
   "source": [
    "df = pd.read_parquet(os.path.join(data_dir,resfilename+'.gzip'))\n",
    "if p['executeRL']: \n",
    "    Q = pd.read_parquet(os.path.join(os.getcwd(),data_dir,tablefilename+'.gzip'))\n",
    "if p['out_of_sample_test']:\n",
    "    df_test = pd.read_parquet(os.path.join(data_dir,testresfilename+'.gzip'))"
   ]
  },
  {
   "cell_type": "markdown",
   "metadata": {},
   "source": [
    "# Epsilondecay, learning rate decay and betaPER growth\n",
    "\n",
    "Visualize the rate of decay for the parameter $\\epsilon$ for $\\epsilon$-greedy action selection of DQN algorithm and the rate of decay for the initial learning rate"
   ]
  },
  {
   "cell_type": "code",
   "execution_count": null,
   "metadata": {},
   "outputs": [],
   "source": [
    "def eps(N,epsilon,eps_decay,min_eps):\n",
    "    \n",
    "    eps = []\n",
    "    \n",
    "    for i in range(N):\n",
    "        epsilon = max(min_eps, epsilon - eps_decay)\n",
    "        eps.append(epsilon)\n",
    "        \n",
    "    return np.array(eps)\n",
    "\n",
    "\n",
    "def lr_exp_decay(N,initial_learning_rate,decay_rate,decay_steps):\n",
    "    \n",
    "    lrs = []\n",
    "    \n",
    "    for i in range(N):\n",
    "        lr = initial_learning_rate * decay_rate ** (i / decay_steps)\n",
    "        lrs.append(lr)\n",
    "    \n",
    "    return np.array(lrs)\n",
    "\n",
    "def beta_anneal(N,beta0,beta_growth,finalbeta):\n",
    "    betas = []\n",
    "    \n",
    "    for i in range(N):\n",
    "        beta0 = min(finalbeta, beta0 + beta_growth)\n",
    "        betas.append(beta0)\n",
    "        \n",
    "    return np.array(betas)"
   ]
  },
  {
   "cell_type": "code",
   "execution_count": null,
   "metadata": {},
   "outputs": [],
   "source": [
    "N = p['N_train']\n",
    "epsilon = p['epsilon']\n",
    "eps_decay = p['eps_decay']\n",
    "min_eps = p['min_eps']\n",
    "e = eps(N,epsilon,eps_decay,min_eps)\n",
    "\n",
    "if p['lr_schedule'] == 'exponential':\n",
    "    initial_learning_rate = p['learning_rate']\n",
    "    decay_rate = p['exp_decay_rate']\n",
    "    decay_steps = p['exp_decay_steps']\n",
    "    l = lr_exp_decay(N,initial_learning_rate,decay_rate,decay_steps)\n",
    "\n",
    "if p['use_PER']:\n",
    "    beta0 = p['PER_b'] \n",
    "    beta_growth = p['PER_b_growth']\n",
    "    finalbeta = p['final_PER_b'] \n",
    "    b =  beta_anneal(N,beta0,beta_growth,finalbeta)\n",
    "    \n",
    "if p['use_PER']:\n",
    "    a0 = p['PER_a'] \n",
    "    a_growth = p['PER_a_growth']\n",
    "    finala = p['final_PER_a'] \n",
    "    b =  beta_anneal(N,a0,a_growth,finala)\n",
    "    \n",
    "plt.rcParams['font.size'] = 17\n",
    "fig = plt.figure(figsize=(40,30))\n",
    "\n",
    "ax1 = fig.add_subplot(4,1,1)\n",
    "ax1.plot(e)\n",
    "ax1.set_title('Epsilon greedy decay over iterations')\n",
    "ax1.legend(['epsilon_greedy'])\n",
    "ax1.set_ylabel('Value')\n",
    "ax1.set_xlabel('Iteration')\n",
    "if p['lr_schedule'] == 'exponential':\n",
    "    ax2 = fig.add_subplot(4,1,2)\n",
    "    ax2.plot(l)\n",
    "    ax2.set_title('Exponential learning rate decay over iterations')\n",
    "    ax2.legend([ 'learning_rate'])\n",
    "    ax2.set_xlabel('Iteration')\n",
    "if p['use_PER']:\n",
    "    ax3 = fig.add_subplot(4,1,3)\n",
    "    ax3.plot(b)\n",
    "    ax3.set_title('Beta PER growth over iterations')\n",
    "    ax3.legend([ 'Beta_PER'])\n",
    "    ax3.set_xlabel('Iteration')\n",
    "    \n",
    "    ax4 = fig.add_subplot(4,1,4)\n",
    "    ax4.plot(b)\n",
    "    ax4.set_title('Alpha PER growth over iterations')\n",
    "    ax4.legend([ 'Alpha_PER'])\n",
    "    ax4.set_xlabel('Iteration')"
   ]
  },
  {
   "cell_type": "markdown",
   "metadata": {},
   "source": [
    "# Stats"
   ]
  },
  {
   "cell_type": "code",
   "execution_count": null,
   "metadata": {},
   "outputs": [],
   "source": [
    "df.head()"
   ]
  },
  {
   "cell_type": "markdown",
   "metadata": {},
   "source": [
    "DQN stats"
   ]
  },
  {
   "cell_type": "code",
   "execution_count": null,
   "metadata": {},
   "outputs": [],
   "source": [
    "# stats for algorithm solution\n",
    "if p['executeDRL']: \n",
    "    display(df.filter(like='_DQN').describe())"
   ]
  },
  {
   "cell_type": "markdown",
   "metadata": {},
   "source": [
    "TabQ stats (if any)"
   ]
  },
  {
   "cell_type": "code",
   "execution_count": null,
   "metadata": {},
   "outputs": [],
   "source": [
    "# stats for optimal solution\n",
    "if p['executeRL']:\n",
    "    display(df.filter(like='_Q').describe())"
   ]
  },
  {
   "cell_type": "markdown",
   "metadata": {},
   "source": [
    "Optimal stats"
   ]
  },
  {
   "cell_type": "code",
   "execution_count": null,
   "metadata": {},
   "outputs": [],
   "source": [
    "if p['executeGP']:\n",
    "    display(df.filter(like='Opt').describe())"
   ]
  },
  {
   "cell_type": "markdown",
   "metadata": {},
   "source": [
    "Comparison with optimal stats"
   ]
  },
  {
   "cell_type": "code",
   "execution_count": null,
   "metadata": {},
   "outputs": [],
   "source": [
    "# compare the two\n",
    "if p['executeDRL']: \n",
    "    display(df[['Action_DQN','OptNextAction','NextHolding_DQN','OptNextHolding','NetPNL_DQN','OptNetPNL', \n",
    "                'Risk_DQN', 'OptRisk', 'Reward_DQN', 'OptReward' ]].round(0).describe())\n",
    "\n",
    "if p['executeRL']: \n",
    "    display(df[['Action_Q','OptNextAction','NextHolding_Q','OptNextHolding','NetPNL_Q','OptNetPNL', \n",
    "                'Risk_Q', 'OptRisk', 'Reward_Q', 'OptReward' ]].round(0).describe())"
   ]
  },
  {
   "cell_type": "markdown",
   "metadata": {},
   "source": [
    "# Actions"
   ]
  },
  {
   "cell_type": "markdown",
   "metadata": {},
   "source": [
    "See histograms for actions made by the algorithms "
   ]
  },
  {
   "cell_type": "code",
   "execution_count": null,
   "metadata": {},
   "outputs": [],
   "source": [
    "def prime_factors(n):\n",
    "    i = 2\n",
    "    factors = []\n",
    "    while i * i <= n:\n",
    "        if n % i:\n",
    "            i += 1\n",
    "        else:\n",
    "            n //= i\n",
    "            factors.append(i)\n",
    "    if n > 1:\n",
    "        factors.append(n)\n",
    "    return factors\n",
    "\n",
    "def plot_actions_histograms(p,df,actiontag,start,kind=None):\n",
    "\n",
    "    plt.rcParams['font.size'] = 10\n",
    "    step = p_post['step_hist_plot']\n",
    "    counter = 0\n",
    "    bins = len(np.arange(-p['KLM'][0], p['KLM'][0] + 1, p['KLM'][1]))\n",
    "\n",
    "    lenght = len(range((p['N_train']//step)))\n",
    "    primes = prime_factors(lenght)\n",
    "\n",
    "    if len(primes) == 1:\n",
    "        m,n = primes[0],1\n",
    "    elif len(primes) == 2:\n",
    "        m,n = primes\n",
    "    elif len(primes) == 3:\n",
    "        m = primes[0] * primes[1]\n",
    "        n = primes[2]\n",
    "\n",
    "    fig = plt.figure(0, figsize=(25,18))\n",
    "    fig.tight_layout()\n",
    "    plt.suptitle('{} histograms by steps of {} iterations'.format(actiontag,step), fontsize= 20)\n",
    "    fig.tight_layout()\n",
    "    for i in range(m):\n",
    "        for j in range(n):\n",
    "            #plt.title('It from {} to {}'. format(start,step*(counter+1)))\n",
    "            ax = plt.subplot2grid((m,n), (i,j))\n",
    "            if kind == 'cum':\n",
    "                ax.set_title('IncW from {} to {}'. format(0,step*(counter+1)))\n",
    "                ax.hist(df.loc[: step*(counter+1),actiontag],bins=bins)    \n",
    "            else:\n",
    "                ax.set_title('RollW from {} to {}'. format(start,step*(counter+1)))\n",
    "                ax.hist(df.loc[start: step*(counter+1),actiontag],bins=bins)\n",
    "            start = step*(counter+1)\n",
    "            counter += 1\n",
    "    plt.show()\n",
    "    \n",
    "def plot_actions_countplot(p,df,actiontag,start,kind=None):\n",
    "\n",
    "    plt.rcParams['font.size'] = 10\n",
    "    step = p_post['step_hist_plot']\n",
    "    counter = 0\n",
    "    bins = len(np.arange(-p['KLM'][0], p['KLM'][0] + 1, p['KLM'][1]))\n",
    "\n",
    "    lenght = len(range((p['N_train']//step)))\n",
    "    primes = prime_factors(lenght)\n",
    "\n",
    "    if len(primes) == 1:\n",
    "        m,n = primes[0],1\n",
    "    elif len(primes) == 2:\n",
    "        m,n = primes\n",
    "    elif len(primes) == 3:\n",
    "        m = primes[0] * primes[1]\n",
    "        n = primes[2]\n",
    "\n",
    "\n",
    "    fig = plt.figure(0, figsize=(25,18))\n",
    "    fig.tight_layout()\n",
    "    plt.suptitle('{} histograms by steps of {} iterations'.format(actiontag,step), fontsize= 20)\n",
    "    fig.tight_layout()\n",
    "    for i in range(m):\n",
    "        for j in range(n):\n",
    "            #plt.title('It from {} to {}'. format(start,step*(counter+1)))\n",
    "            ax = plt.subplot2grid((m,n), (i,j))\n",
    "            if kind == 'cum':\n",
    "                ax.set_title('IncW from {} to {}'. format(0,step*(counter+1)))\n",
    "                #ax.hist(df.loc[: step*(counter+1),actiontag],bins=bins)  \n",
    "                sns.countplot(x=actiontag, data=df.loc[: step*(counter+1)], palette=sns.color_palette(\"PRGn\", n_colors=bins))\n",
    "            else:\n",
    "                ax.set_title('RollW from {} to {}'. format(start,step*(counter+1)))\n",
    "                sns.countplot(x=actiontag, data=df.loc[start: step*(counter+1)], palette=sns.color_palette(\"PRGn\", n_colors=bins))\n",
    "            start = step*(counter+1)\n",
    "            counter += 1\n",
    "    plt.show()"
   ]
  },
  {
   "cell_type": "code",
   "execution_count": null,
   "metadata": {},
   "outputs": [],
   "source": [
    "p['max_experiences'], p['min_experiences'], p['eps_decay']"
   ]
  },
  {
   "cell_type": "code",
   "execution_count": null,
   "metadata": {},
   "outputs": [],
   "source": [
    "print('Rolling windows')\n",
    "if p['executeDRL']:\n",
    "    plot_actions_histograms(p,df,'Action_DQN',p_post['start_hist_plot'])\n",
    "if p['executeRL']:\n",
    "    plot_actions_histograms(p,df,'Action_Q',p_post['start_hist_plot'])\n",
    "if p['executeGP']:\n",
    "    plot_actions_histograms(p,df,'OptNextAction',p_post['start_hist_plot'])\n",
    "print()\n",
    "print('Increasing windows')\n",
    "if p['executeDRL']:\n",
    "    plot_actions_histograms(p,df,'Action_DQN',p_post['start_hist_plot'],'cum')\n",
    "if p['executeRL']:\n",
    "    plot_actions_histograms(p,df,'Action_Q',p_post['start_hist_plot'],'cum')\n",
    "if p['executeGP']:\n",
    "    plot_actions_histograms(p,df,'OptNextAction',p_post['start_hist_plot'],'cum')"
   ]
  },
  {
   "cell_type": "code",
   "execution_count": null,
   "metadata": {},
   "outputs": [],
   "source": [
    "# print('Rolling windows')\n",
    "# if p['executeDRL']:\n",
    "#     plot_actions_countplot(p,df,'Action_DQN',p_post['start_hist_plot'])\n",
    "# if p['executeRL']:\n",
    "#     plot_actions_countplot(p,df,'Action_Q',p_post['start_hist_plot'])\n",
    "# print()\n",
    "# print('Increasing windows')\n",
    "# if p['executeDRL']:\n",
    "#     plot_actions_countplot(p,df,'Action_DQN',p_post['start_hist_plot'],'cum')\n",
    "# if p['executeRL']:\n",
    "#     plot_actions_countplot(p,df,'Action_Q',p_post['start_hist_plot'],'cum')"
   ]
  },
  {
   "cell_type": "markdown",
   "metadata": {},
   "source": [
    "# Correlations\n",
    "See some correlation between action/portfolio of the algorithms with respect to the optimal solution"
   ]
  },
  {
   "cell_type": "code",
   "execution_count": null,
   "metadata": {},
   "outputs": [],
   "source": [
    "def Compute_Corr(df, pairs, start, step, end, tag=None):\n",
    "\n",
    "    if tag:\n",
    "        pairs = [[p[0]+'_{}'.format(tag),p[1]] for p in pairs]\n",
    "    \n",
    "    corr = pd.DataFrame(columns = ['_'.join(pair) for pair in pairs],\n",
    "                    index = np.arange(start,\n",
    "                                      end + 1,\n",
    "                                      step), dtype=np.float64).drop(0)\n",
    "    \n",
    "    for i in corr.index:\n",
    "        for pair in pairs:     \n",
    "            corr.at[i,'_'.join(pair)] = np.corrcoef(df[pair[0]].iloc[start:i], \n",
    "                                                    df[pair[1]].iloc[start:i])[0][1]    \n",
    "    return corr"
   ]
  },
  {
   "cell_type": "code",
   "execution_count": null,
   "metadata": {},
   "outputs": [],
   "source": [
    "pairs = [['NextHolding','OptNextHolding'],['Action','OptNextAction'],['Action','returns']]\n",
    "optpair = [['OptNextAction', 'returns']]\n",
    "start = 0\n",
    "step = p_post['step_corr']\n",
    "end = p['N_train']\n",
    "\n",
    "if p['executeDRL'] and p['executeGP']:\n",
    "    corr_DQN = Compute_Corr(df, pairs, start, step, end, 'DQN')\n",
    "if p['executeRL'] and p['executeGP']:\n",
    "    corr_Q = Compute_Corr(df, pairs, start, step, end, 'Q')\n",
    "\n",
    "corr_opt = Compute_Corr(df, optpair, start, step, end)\n",
    "\n",
    "if p['executeDRL'] and p['executeRL'] and p['executeGP']:\n",
    "    tot_corr = pd.concat([corr_DQN,corr_Q,corr_opt], axis=1)\n",
    "elif p['executeDRL'] and not p['executeRL'] and p['executeGP']:\n",
    "    tot_corr = pd.concat([corr_DQN,corr_opt], axis=1)\n",
    "elif not p['executeDRL'] and p['executeRL'] and p['executeGP']:\n",
    "    tot_corr = pd.concat([corr_Q,corr_opt], axis=1)\n",
    "    \n",
    "display(tot_corr)"
   ]
  },
  {
   "cell_type": "markdown",
   "metadata": {},
   "source": [
    "# PnL and Reward"
   ]
  },
  {
   "cell_type": "code",
   "execution_count": null,
   "metadata": {},
   "outputs": [],
   "source": [
    "def ComputeSortinoRatio(series):\n",
    "    \n",
    "    mean = np.array(series).mean()\n",
    "    std = np.array(series[series<0]).std()\n",
    "    sortino_ratio = (mean/std) * (252 ** 0.5)\n",
    "    \n",
    "    return sortino_ratio\n",
    "\n",
    "def ComputeSharpeRatio(series):\n",
    "    \n",
    "    mean = np.array(series).mean()\n",
    "    std = np.array(series).std()\n",
    "    sr = (mean/std) * (252 ** 0.5)\n",
    "    \n",
    "    return mean, std, sr"
   ]
  },
  {
   "cell_type": "code",
   "execution_count": null,
   "metadata": {},
   "outputs": [],
   "source": [
    "def plot_portfolio_quantities(df, pairs, tag, kind, opt, p):\n",
    "    \n",
    "    plt.rcParams['font.size'] = 14\n",
    "    \n",
    "    if kind == 'stock':\n",
    "        if tag:\n",
    "            pairs = [[p[0]+'_{}'.format(tag),p[1]] for p in pairs]\n",
    "        # plot quantities as they are\n",
    "        fig = plt.figure(0, figsize=(25,12))\n",
    "        fig.tight_layout()\n",
    "        plt.suptitle('Exposure Quantities for {}'.format(tag), fontsize= 20)\n",
    "        m,n = 3,1\n",
    "        counter = 0\n",
    "        for i in range(m):\n",
    "            for j in range(n):\n",
    "                pair = pairs[counter]\n",
    "                ax = plt.subplot2grid((m,n), (i,j))\n",
    "                ax.set_title(pair)\n",
    "                if 'Cost' in pair[0]:\n",
    "                    ax.hist(df.loc[p['min_experiences']:,pair[0]], bins=5)\n",
    "                    if opt:\n",
    "                        ax.hist(df.loc[p['min_experiences']:,pair[1]],alpha=0.5, bins=5)\n",
    "                        plt.legend([pair[0],pair[1]])\n",
    "                    else:\n",
    "                        plt.legend([pair[0]])\n",
    "                else:\n",
    "                    ax.plot(df.loc[p['min_experiences']:,pair[0]])\n",
    "                    if opt:\n",
    "                        ax.plot(df.loc[p['min_experiences']:,pair[1]],alpha=0.5)\n",
    "                        plt.legend([pair[0],pair[1]])\n",
    "                    else:\n",
    "                        plt.legend([pair[0]])\n",
    "                counter +=1\n",
    "        plt.show()\n",
    "\n",
    "    elif kind == 'cum':\n",
    "        if tag:\n",
    "            pairs = [[p[0]+'_{}'.format(tag),p[1]] for p in pairs]\n",
    "        # plot cumulative quantities\n",
    "        fig = plt.figure(0,figsize=(25,12))\n",
    "        fig.tight_layout()\n",
    "        plt.suptitle('Cumulative Quantities for {}'.format(tag), fontsize= 20)\n",
    "        m,n = 2,2\n",
    "        counter = 0\n",
    "        for i in range(m):\n",
    "            for j in range(n):\n",
    "                pair = pairs[counter]\n",
    "                PNLmean, PNLstd, PNLsr = ComputeSharpeRatio(df[pair[0]])\n",
    "                if opt and counter < 2:\n",
    "                    OptPNLmean, OptPNLstd, OptGrossPNLsr = ComputeSharpeRatio(df[pair[1]])\n",
    "                    pnl_text = AnchoredText(' {} Sharpe Ratio: '.format(pair[0]) + str(np.around(PNLsr,2)) + \n",
    "                                                  '\\n {} mean: '.format(pair[0]) + str(np.around(PNLmean,2)) + \n",
    "                                                  '\\n {} PnL std: '.format(pair[0]) + str(np.around(PNLstd,2)) +\n",
    "                                                  '\\n {} Sharpe Ratio: '.format(pair[1]) + str(np.around(OptGrossPNLsr,2)) + \n",
    "                                                  '\\n {} PnL mean: '.format(pair[1]) + str(np.around(OptPNLmean,2)) + \n",
    "                                                  '\\n {} PnL std: '.format(pair[1]) + str(np.around(OptPNLstd,2)), \n",
    "                                                  loc=4, prop=dict(size=10)) # pad=0, borderpad=0, frameon=False \n",
    "                else:\n",
    "                    pnl_text = AnchoredText(' {} Sharpe Ratio: '.format(pair[0]) + str(np.around(PNLsr,2)) + \n",
    "                              '\\n {} mean: '.format(pair[0]) + str(np.around(PNLmean,2)) + \n",
    "                              '\\n {} PnL std: '.format(pair[0]) + str(np.around(PNLstd,2)), \n",
    "                              loc=4, prop=dict(size=10)) # pad=0, borderpad=0, frameon=False \n",
    "                \n",
    "                \n",
    "                ax = plt.subplot2grid((m,n), (i,j))\n",
    "                ax.set_title(pair)\n",
    "                ax.plot(df.loc[p['min_experiences']:,pair[0]].cumsum())\n",
    "                if opt:\n",
    "                    ax.plot(df.loc[p['min_experiences']:,pair[1]].cumsum(),alpha=0.5)\n",
    "                    ax.legend([pair[0],pair[1]])\n",
    "                else:\n",
    "                    ax.legend([pair[0]])\n",
    "                if counter < 2:\n",
    "                    ax.add_artist(pnl_text)                \n",
    "                counter += 1\n",
    "        plt.show()\n",
    "\n",
    "    else:\n",
    "        print('Choose a proper kind of plot! Either stock or cum!')\n",
    "        \n",
    "def plot_grid_equity_curves(p,df,tags, start, kind=None):\n",
    "\n",
    "    plt.rcParams['font.size'] = 10\n",
    "    step = p_post['step_eq_plot']\n",
    "    counter = 0\n",
    "\n",
    "    lenght = len(range((p['N_train']//step)))\n",
    "    primes = prime_factors(lenght)\n",
    "\n",
    "    if len(primes) == 1:\n",
    "        m,n = primes[0],1\n",
    "    elif len(primes) == 2:\n",
    "        m,n = primes\n",
    "    elif len(primes) == 3:\n",
    "        m = primes[0] * primes[1]\n",
    "        n = primes[2]\n",
    "\n",
    "\n",
    "    fig = plt.figure(0, figsize=(25,18))\n",
    "    fig.tight_layout()\n",
    "    plt.suptitle('{} equity curves by steps of {} iterations'.format(tags,step), fontsize= 20)\n",
    "    fig.tight_layout()\n",
    "    for i in range(m):\n",
    "        for j in range(n):\n",
    "            #plt.title('It from {} to {}'. format(start,step*(counter+1)))\n",
    "            if kind=='cum':\n",
    "                PNLmean, PNLstd, PNLsr = ComputeSharpeRatio(df.loc[: step*(counter+1),tags[0]])\n",
    "                PNLmean2, PNLstd2, PNLsr2 = ComputeSharpeRatio(df.loc[: step*(counter+1),tags[1]])\n",
    "            else:\n",
    "                PNLmean, PNLstd, PNLsr = ComputeSharpeRatio(df.loc[start: step*(counter+1),tags[0]])\n",
    "                PNLmean2, PNLstd2, PNLsr2 = ComputeSharpeRatio(df.loc[start: step*(counter+1),tags[1]])\n",
    "            \n",
    "            pnl_text = AnchoredText(' {} Sharpe Ratio: '.format(tags[0]) + str(np.around(PNLsr,2)) + \n",
    "                              '\\n {} mean: '.format(tags[0]) + str(np.around(PNLmean,2)) + \n",
    "                              '\\n {} PnL std: '.format(tags[0]) + str(np.around(PNLstd,2)) +\n",
    "                              '\\n {} Sharpe Ratio: '.format(tags[1]) + str(np.around(PNLsr2,2)) + \n",
    "                              '\\n {} PnL mean: '.format(tags[1]) + str(np.around(PNLmean2,2)) + \n",
    "                              '\\n {} PnL std: '.format(tags[1]) + str(np.around(PNLstd2,2)), \n",
    "                              loc=1, prop=dict(size=10))\n",
    "            \n",
    "            ax = plt.subplot2grid((m,n), (i,j))\n",
    "            if kind == 'cum':\n",
    "                ax.set_title('IncW from {} to {}'. format(0,step*(counter+1)))\n",
    "                ax.plot(df.loc[: step*(counter+1),tags].cumsum())\n",
    "            else:\n",
    "                ax.set_title('RollW from {} to {}'. format(start,step*(counter+1)))\n",
    "                ax.plot(df.loc[start: step*(counter+1),tags].cumsum())\n",
    "            ax.add_artist(pnl_text)  \n",
    "            ax.legend(tags, loc=4)\n",
    "            start = step*(counter+1)\n",
    "            counter += 1\n",
    "    plt.show()"
   ]
  },
  {
   "cell_type": "code",
   "execution_count": null,
   "metadata": {},
   "outputs": [],
   "source": [
    "stock_pairs = [['NextHolding','OptNextHolding'],['Risk', 'OptRisk'], ['Cost', 'OptCost']]\n",
    "cum_pairs = [['GrossPNL','OptGrossPNL'],['NetPNL','OptNetPNL'], ['Reward', 'OptReward'], ['Cost', 'OptCost']]"
   ]
  },
  {
   "cell_type": "markdown",
   "metadata": {},
   "source": [
    "## Exposure quantities"
   ]
  },
  {
   "cell_type": "code",
   "execution_count": null,
   "metadata": {},
   "outputs": [],
   "source": [
    "if p['executeDRL']:\n",
    "    plot_portfolio_quantities(df,stock_pairs, 'DQN', 'stock', False, p)\n",
    "    plot_portfolio_quantities(df,stock_pairs, 'DQN', 'stock', True, p)\n",
    "if p['executeRL']:\n",
    "    plot_portfolio_quantities(df,stock_pairs, 'Q', 'stock', False, p)\n",
    "    plot_portfolio_quantities(df,stock_pairs, 'Q', 'stock', True, p)"
   ]
  },
  {
   "cell_type": "markdown",
   "metadata": {},
   "source": [
    "## Cumulative Portfolio Quantities"
   ]
  },
  {
   "cell_type": "code",
   "execution_count": null,
   "metadata": {},
   "outputs": [],
   "source": [
    "if p['executeDRL']:\n",
    "    plot_portfolio_quantities(df,cum_pairs, 'DQN', 'cum', False, p)\n",
    "    plot_portfolio_quantities(df,cum_pairs, 'DQN', 'cum', True, p)\n",
    "if p['executeRL']:\n",
    "    plot_portfolio_quantities(df,cum_pairs, 'Q', 'cum', False,p)\n",
    "    plot_portfolio_quantities(df,cum_pairs, 'Q', 'cum', True,p)"
   ]
  },
  {
   "cell_type": "code",
   "execution_count": null,
   "metadata": {},
   "outputs": [],
   "source": [
    "stock_pairs = [['NextHolding','NextHolding','OptNextHolding'],['Risk','Risk', 'OptRisk'], ['Cost','Cost', 'OptCost']]\n",
    "cum_pairs = [['GrossPNL','GrossPNL','OptGrossPNL'],['NetPNL','NetPNL','OptNetPNL'], ['Reward','Reward', 'OptReward'], ['Cost','Cost', 'OptCost']]"
   ]
  },
  {
   "cell_type": "code",
   "execution_count": null,
   "metadata": {},
   "outputs": [],
   "source": [
    "def plot_all(df,pairs, tags, kind, opt, p):\n",
    "    \n",
    "    plt.rcParams['font.size'] = 14\n",
    "    \n",
    "    ps = [[p[0]+'_{}'.format(tags[0]),p[1]+'_{}'.format(tags[1]),p[2]] for p in pairs]\n",
    "    \n",
    "    if kind == 'stock':\n",
    "        # plot quantities as they are\n",
    "        fig = plt.figure(0, figsize=(25,12))\n",
    "        fig.tight_layout()\n",
    "        plt.suptitle('Exposure Quantities for {}'.format(tags), fontsize= 20)\n",
    "        m,n = 3,1\n",
    "        counter = 0\n",
    "        for i in range(m):\n",
    "            pair = ps[counter]\n",
    "            \n",
    "            ax = plt.subplot2grid((m,1), (i,0))\n",
    "            ax.set_title(pair)\n",
    "            ax.plot(df.loc[p['min_experiences']:,pair[0]])\n",
    "            ax.plot(df.loc[p['min_experiences']:,pair[1]])\n",
    "            if opt:\n",
    "                ax.plot(df.loc[p['min_experiences']:,pair[2]],alpha=0.5)\n",
    "                plt.legend([pair[0],pair[1], pair[2]])\n",
    "            plt.legend([pair[0],pair[1]])\n",
    "            counter += 1\n",
    "        plt.show()\n",
    "\n",
    "    elif kind == 'cum':\n",
    "\n",
    "        fig = plt.figure(0,figsize=(25,12))\n",
    "        fig.tight_layout()\n",
    "        plt.suptitle('Cumulative Quantities for {}'.format(tags), fontsize= 20)\n",
    "        m,n = 2,2\n",
    "        counter = 0\n",
    "        for i in range(m):\n",
    "            pair = ps[counter]\n",
    "            for j in range(n):\n",
    "                pair = ps[counter]\n",
    "                PNLmean, PNLstd, PNLsr = ComputeSharpeRatio(df[pair[0]])\n",
    "                PNLmean2, PNLstd2, PNLsr2 = ComputeSharpeRatio(df[pair[1]])\n",
    "                OptPNLmean, OptPNLstd, OptGrossPNLsr = ComputeSharpeRatio(df[pair[2]])\n",
    "                if opt and counter < 2:\n",
    "                    pnl_text = AnchoredText(' {} Sharpe Ratio: '.format(pair[0]) + str(np.around(PNLsr,2)) + \n",
    "                                                  '\\n {} mean: '.format(pair[0]) + str(np.around(PNLmean,2)) + \n",
    "                                                  '\\n {} PnL std: '.format(pair[0]) + str(np.around(PNLstd,2)) +\n",
    "                                            ' \\n {} Sharpe Ratio: '.format(pair[1]) + str(np.around(PNLsr2,2)) + \n",
    "                                                  '\\n {} mean: '.format(pair[1]) + str(np.around(PNLmean2,2)) + \n",
    "                                                  '\\n {} PnL std: '.format(pair[1]) + str(np.around(PNLstd2,2)) +\n",
    "                                                  '\\n {} Sharpe Ratio: '.format(pair[2]) + str(np.around(OptGrossPNLsr,2)) + \n",
    "                                                  '\\n {} PnL mean: '.format(pair[2]) + str(np.around(OptPNLmean,2)) + \n",
    "                                                  '\\n {} PnL std: '.format(pair[2]) + str(np.around(OptPNLstd,2)), \n",
    "                                                  loc=4, prop=dict(size=10)) # pad=0, borderpad=0, frameon=False \n",
    "                else:\n",
    "                    pnl_text = AnchoredText(' {} Sharpe Ratio: '.format(pair[0]) + str(np.around(PNLsr,2)) + \n",
    "                                              '\\n {} mean: '.format(pair[0]) + str(np.around(PNLmean,2)) + \n",
    "                                              '\\n {} PnL std: '.format(pair[0]) + str(np.around(PNLstd,2))+ \n",
    "                                                '\\n {} Sharpe Ratio: '.format(pair[1]) + str(np.around(PNLsr2,2)) + \n",
    "                                                  '\\n {} mean: '.format(pair[1]) + str(np.around(PNLmean2,2)) + \n",
    "                                                  '\\n {} PnL std: '.format(pair[1]) + str(np.around(PNLstd2,2)), \n",
    "                                              loc=4, prop=dict(size=10)) # pad=0, borderpad=0, frameon=False \n",
    "                \n",
    "                \n",
    "                ax = plt.subplot2grid((m,n), (i,j))\n",
    "                ax.set_title(pair)\n",
    "                ax.plot(df.loc[p['min_experiences']:,pair[0]].cumsum(), label=pair[0])\n",
    "                ax.plot(df.loc[p['min_experiences']:,pair[1]].cumsum(), label=pair[1])\n",
    "                if opt:\n",
    "                    ax.plot(df.loc[p['min_experiences']:,pair[2]].cumsum(),alpha=0.5,label=pair[2])\n",
    "                plt.legend()\n",
    "                if counter < 2:\n",
    "                    ax.add_artist(pnl_text)                \n",
    "                counter += 1\n",
    "        #plt.show()\n",
    "\n",
    "    else:\n",
    "        print('Choose a proper kind of plot! Either stock or cum!')"
   ]
  },
  {
   "cell_type": "markdown",
   "metadata": {},
   "source": [
    "Picture with the algorithms alltogether (if any)"
   ]
  },
  {
   "cell_type": "code",
   "execution_count": null,
   "metadata": {},
   "outputs": [],
   "source": [
    "# if p['executeDRL'] and p['executeRL']:\n",
    "#     plot_all(stock_pairs, ['DQN','Q'], 'stock', False, p)\n",
    "#     plot_all(cum_pairs, ['DQN','Q'], 'cum', False, p)"
   ]
  },
  {
   "cell_type": "code",
   "execution_count": null,
   "metadata": {},
   "outputs": [],
   "source": [
    "if p['executeDRL'] and p['executeRL'] and p['executeGP']:\n",
    "    plot_all(df, stock_pairs, ['DQN','Q'], 'stock', True, p)\n",
    "    plot_all(df, cum_pairs, ['DQN','Q'], 'cum', True, p)"
   ]
  },
  {
   "cell_type": "markdown",
   "metadata": {},
   "source": [
    "## Equity Curves step by step"
   ]
  },
  {
   "cell_type": "code",
   "execution_count": null,
   "metadata": {},
   "outputs": [],
   "source": [
    "if p['executeDRL']:\n",
    "    print('INCREASING WINDOW')\n",
    "    plot_grid_equity_curves(p,df,['GrossPNL_DQN','NetPNL_DQN'],p_post['start_hist_plot'],'cum')\n",
    "    print('ROLLING WINDOW')\n",
    "    plot_grid_equity_curves(p,df,['GrossPNL_DQN','NetPNL_DQN'],p_post['start_hist_plot'])"
   ]
  },
  {
   "cell_type": "code",
   "execution_count": null,
   "metadata": {},
   "outputs": [],
   "source": [
    "if p['executeRL']:\n",
    "    print('INCREASING WINDOW')\n",
    "    plot_grid_equity_curves(p,df,['GrossPNL_Q','NetPNL_Q'],p_post['start_hist_plot'], 'cum')\n",
    "    print('ROLLING WINDOW')\n",
    "    plot_grid_equity_curves(p,df,['GrossPNL_Q','NetPNL_Q'],p_post['start_hist_plot'])"
   ]
  },
  {
   "cell_type": "markdown",
   "metadata": {},
   "source": [
    "# Ex post regressions"
   ]
  },
  {
   "cell_type": "code",
   "execution_count": null,
   "metadata": {},
   "outputs": [],
   "source": [
    "import statsmodels.api as sm"
   ]
  },
  {
   "cell_type": "code",
   "execution_count": null,
   "metadata": {},
   "outputs": [],
   "source": [
    "def opt_trading_rate_disc_loads(p):\n",
    "    \n",
    "    f_speed = np.around(np.log(2)/p['HalfLife'],4)\n",
    "    \n",
    "    # 1 percent annualized discount rate (same rate of Ritter)\n",
    "    rho = 1 - np.exp(- p['discount_rate']/260)  \n",
    "\n",
    "    # kappa is the risk aversion, CostMultiplier the parameter for trading cost\n",
    "    num1 = (p['kappa'] * ( 1 - rho) + p['CostMultiplier'] *rho)\n",
    "    num2 = np.sqrt(num1**2 + 4 * p['kappa'] * p['CostMultiplier'] * (1 - rho)**2)\n",
    "    den = 2* (1 - rho)\n",
    "    a = (-num1 + num2)/ den\n",
    "\n",
    "    OptRate = a / p['CostMultiplier']\n",
    "        \n",
    "    DiscFactorLoads = p['f_param'] / (1 + f_speed * ((OptRate * p['CostMultiplier']) /  p['kappa']))\n",
    "    \n",
    "    return OptRate, DiscFactorLoads, f_speed\n",
    "\n",
    "def run_optimal_regression(df, p, columns=['OptNextHolding','OptNextAction']):\n",
    "    \n",
    "    factors = df[df.columns[df.columns.str.startswith('factor', na=False) == True]].copy()\n",
    "    regressors = df[columns].copy()\n",
    "    dfc = pd.concat([factors, regressors], axis=1)\n",
    "    \n",
    "    dfc['OptCurrholding'] = dfc[columns[0]] - dfc[columns[1]]\n",
    "    dfc.drop(dfc.head(1).index, inplace=True)\n",
    "    dfc.drop(dfc.tail(1).index, inplace=True)\n",
    "    \n",
    "    OptRate, DiscFactorLoads, lambdas = opt_trading_rate_disc_loads(p)\n",
    "    DiscFactorLoads = DiscFactorLoads.reshape(-1,1)\n",
    "    factors = dfc[df.columns[df.columns.str.startswith('factor', na=False) == True]]\n",
    "    if len(DiscFactorLoads) == 1:\n",
    "        retprod = factors * DiscFactorLoads\n",
    "    else:\n",
    "        retprod = factors @ DiscFactorLoads\n",
    "        \n",
    "    dfc['aim'] = (1/(p['kappa'] * (p['sigma'])**2)) *  retprod\n",
    "    \n",
    "    \n",
    "    X = dfc[['OptCurrholding','aim']]\n",
    "    y = dfc['OptNextHolding']\n",
    "    X = sm.add_constant(X.values)\n",
    "    \n",
    "    ols_model = sm.OLS(endog=y,exog=X)\n",
    "    ols_res = ols_model.fit()\n",
    "    \n",
    "    return ols_res, (1-OptRate), OptRate\n",
    "\n",
    "def run_regression(df, p, tag, columns=['CurrHolding','NextHolding']):\n",
    "    \n",
    "    factors = df[df.columns[df.columns.str.startswith('factor', na=False) == True]].copy()\n",
    "    columns = [c+'_{}'.format(tag) for c in columns]\n",
    "    regressors = df[columns].copy()\n",
    "    dfc = pd.concat([factors, regressors], axis=1)\n",
    "\n",
    "    dfc.drop(dfc.head(1).index, inplace=True)\n",
    "    dfc.drop(dfc.tail(1).index, inplace=True)\n",
    "    \n",
    "\n",
    "    OptRate, DiscFactorLoads, lambdas = opt_trading_rate_disc_loads(p)\n",
    "    DiscFactorLoads = DiscFactorLoads.reshape(-1,1)\n",
    "    factors = dfc[df.columns[df.columns.str.startswith('factor', na=False) == True]]\n",
    "    if len(DiscFactorLoads) == 1:\n",
    "        retprod = factors * DiscFactorLoads\n",
    "    else:\n",
    "        retprod = factors @ DiscFactorLoads\n",
    "        \n",
    "    dfc['aim'] = (1/(p['kappa'] * (p['sigma'])**2)) *  retprod\n",
    "#     dfc['aim'] = (1/(p['kappa'] * (p['sigma'])**2)) *  (DiscFactorLoads * \\\n",
    "#                                                         dfc[df.columns[df.columns.str.startswith('factor', na=False) == True]])\n",
    "    \n",
    "    X = dfc[['CurrHolding_{}'.format(tag),'aim']]\n",
    "    y = dfc['NextHolding_{}'.format(tag)]\n",
    "    #X = sm.add_constant(X.values)\n",
    "    \n",
    "    ols_model = sm.OLS(endog=y,exog=X)\n",
    "    ols_res = ols_model.fit()\n",
    "    \n",
    "    return ols_res"
   ]
  },
  {
   "cell_type": "code",
   "execution_count": null,
   "metadata": {},
   "outputs": [],
   "source": [
    "if p['executeDRL']:\n",
    "    ols_res_DQN = run_regression(df,p,'DQN')\n",
    "if p['executeRL']:\n",
    "    ols_res_Q = run_regression(df,p, 'Q')\n",
    "if p['executeGP']:\n",
    "    opt_ols_res, c1, c2 = run_optimal_regression(df,p)"
   ]
  },
  {
   "cell_type": "markdown",
   "metadata": {},
   "source": [
    "## Optimal regression "
   ]
  },
  {
   "cell_type": "code",
   "execution_count": null,
   "metadata": {},
   "outputs": [],
   "source": [
    "opt_ols_res.summary()"
   ]
  },
  {
   "cell_type": "markdown",
   "metadata": {},
   "source": [
    "The two coefficient of the optimal regression are: $$x_{t} = \\left( 1 - \\frac{a}{\\lambda}\\right) x_{t-1} + \\frac{a}{\\lambda}aim_{t}$$"
   ]
  },
  {
   "cell_type": "code",
   "execution_count": null,
   "metadata": {},
   "outputs": [],
   "source": [
    "print('Coefficient 1: ',c1)\n",
    "print('Coefficient 2: ',c2)"
   ]
  },
  {
   "cell_type": "markdown",
   "metadata": {},
   "source": [
    "while the values obtained by the parameter of the experiment are "
   ]
  },
  {
   "cell_type": "code",
   "execution_count": null,
   "metadata": {},
   "outputs": [],
   "source": [
    "OptRate, _, _ = opt_trading_rate_disc_loads(p)\n",
    "print('Value 1: ',c1)\n",
    "print('Value 2: ',c2)"
   ]
  },
  {
   "cell_type": "code",
   "execution_count": null,
   "metadata": {},
   "outputs": [],
   "source": [
    "# plt.rcParams['figure.figsize'] = (20.0, 10.0)\n",
    "# sns.distplot(opt_ols_res.resid)"
   ]
  },
  {
   "cell_type": "code",
   "execution_count": null,
   "metadata": {},
   "outputs": [],
   "source": [
    "# sm.qqplot(opt_ols_res.resid, line='r') \n",
    "# pass"
   ]
  },
  {
   "cell_type": "markdown",
   "metadata": {},
   "source": [
    "## DQN regression"
   ]
  },
  {
   "cell_type": "code",
   "execution_count": null,
   "metadata": {},
   "outputs": [],
   "source": [
    "if p['executeDRL']:\n",
    "    display(ols_res_DQN.summary())"
   ]
  },
  {
   "cell_type": "code",
   "execution_count": null,
   "metadata": {},
   "outputs": [],
   "source": [
    "# if p['executeDRL']:\n",
    "#     sns.distplot(ols_res_DQN.resid)"
   ]
  },
  {
   "cell_type": "code",
   "execution_count": null,
   "metadata": {},
   "outputs": [],
   "source": [
    "# if p['executeDRL']:\n",
    "#     sm.qqplot(ols_res_DQN.resid, line='r')\n",
    "#     pass"
   ]
  },
  {
   "cell_type": "markdown",
   "metadata": {},
   "source": [
    "## Tabular Q regression"
   ]
  },
  {
   "cell_type": "code",
   "execution_count": null,
   "metadata": {},
   "outputs": [],
   "source": [
    "if p['executeRL']:\n",
    "    display(ols_res_Q.summary())"
   ]
  },
  {
   "cell_type": "code",
   "execution_count": null,
   "metadata": {},
   "outputs": [],
   "source": [
    "if p['executeRL']:\n",
    "    ols_res_Q.resid.sum()"
   ]
  },
  {
   "cell_type": "code",
   "execution_count": null,
   "metadata": {},
   "outputs": [],
   "source": [
    "# if p['executeRL']:\n",
    "#     sns.distplot(ols_res_Q.resid)"
   ]
  },
  {
   "cell_type": "code",
   "execution_count": null,
   "metadata": {},
   "outputs": [],
   "source": [
    "# if p['executeRL']:\n",
    "#     sm.qqplot(ols_res_Q.resid,line='r')\n",
    "#     pass"
   ]
  },
  {
   "cell_type": "markdown",
   "metadata": {},
   "source": [
    "# Learned Value Function"
   ]
  },
  {
   "cell_type": "code",
   "execution_count": null,
   "metadata": {},
   "outputs": [],
   "source": [
    "from utils.DeepLearning import DeepQNetworkModel\n",
    "from utils.SimulateData import ReturnSampler\n",
    "from sklearn.preprocessing import StandardScaler, MinMaxScaler\n",
    "import tensorflow as tf\n",
    "from matplotlib import cm"
   ]
  },
  {
   "cell_type": "code",
   "execution_count": null,
   "metadata": {},
   "outputs": [],
   "source": [
    "if p['use_GPU']:\n",
    "    gpu_devices = tf.config.experimental.list_physical_devices('GPU')\n",
    "    for device in gpu_devices:\n",
    "        tf.config.experimental.set_memory_growth(device, True)"
   ]
  },
  {
   "cell_type": "code",
   "execution_count": null,
   "metadata": {},
   "outputs": [],
   "source": [
    "def load_DQNmodel(p, data_dir, ckpt=False, ckpt_it=None):\n",
    "    \n",
    "    #p['sigma'] = [p['sigma']]\n",
    "    \n",
    "    # count the number of inputs as the single volatilities passed as input plus the portfolio holding\n",
    "    num_inp = 2 # TODO insert number of factors as parameter\n",
    "    actions = np.arange(-p['KLM'][0], p['KLM'][0] + 1, p['KLM'][1])\n",
    "    num_actions = len(actions)\n",
    "    \n",
    "    model = DeepQNetworkModel(p['seed'], num_inp, p['hidden_units'], num_actions, \n",
    "                          p['batch_norm_input'], p['batch_norm_hidden'], p['activation'], p['kernel_initializer'], \n",
    "                          p['mom_batch_norm'], p['trainable_batch_norm'],modelname='TrainNet')\n",
    "    \n",
    "    if ckpt:\n",
    "        model.load_weights(os.path.join(data_dir, 'ckpt','DQN_{}_it_weights'.format(ckpt_it)))\n",
    "    else:\n",
    "        model.load_weights(os.path.join(data_dir, 'DQN_final_weights'))\n",
    "    \n",
    "    return model, actions\n",
    "    \n",
    "def plot_learned_DQN(df, model, actions, holding, ax=None, normalize=None, scaler='Standard', less_labels=False, n_less_labels = None, ckpt=False, ckpt_it=None):\n",
    "    \n",
    "    sample_Ret = np.linspace(df['returns'].min(), df['returns'].max(), 100)\n",
    "    if holding == 0:\n",
    "        holdings = np.zeros(len(sample_Ret))\n",
    "    else:\n",
    "        holdings = np.ones(len(sample_Ret)) * holding\n",
    "    \n",
    "    states = tf.constant(np.hstack((sample_Ret.reshape(-1,1), holdings.reshape(-1,1))), dtype=tf.float32)\n",
    "    pred = model(states,training=False)\n",
    "    \n",
    "    if normalize:\n",
    "        if scaler == 'Standard':\n",
    "            pred = StandardScaler().fit_transform(tf.transpose(pred))\n",
    "            pred = pred.T\n",
    "        elif scaler== 'MinMax':\n",
    "            pred = MinMaxScaler().fit_transform(tf.transpose(pred))\n",
    "            pred = pred.T\n",
    "    \n",
    "    if ax:\n",
    "        viridis = cm.get_cmap('viridis', pred.shape[1])\n",
    "        for i in range(pred.shape[1]): \n",
    "            if normalize:\n",
    "                if ckpt:\n",
    "                    ax.set_title('Learned Q function with {} scaler when h = {} at iteration {}'.format(scaler,int(holdings[0]),ckpt_it))\n",
    "                else:\n",
    "                    ax.set_title('Learned Q function with {} scaler when h = {}'.format(scaler,int(holdings[0])))\n",
    "            else:\n",
    "                if ckpt:\n",
    "                    ax.set_title('Learned DQN function when h = {} at iteration {}'.format(int(holdings[0]),ckpt_it))\n",
    "                else:\n",
    "                    ax.set_title('Learned DQN function when h = {}'.format(int(holdings[0])))\n",
    "            if less_labels:\n",
    "                subset_label_idx = np.round(np.linspace(0, len(actions) - 1, n_less_labels)).astype(int)\n",
    "                subset_label = actions[subset_label_idx]\n",
    "                if actions[i] in subset_label:\n",
    "                    ax.plot(states[:,0],pred[:,i], label=str(actions[i]), c = viridis.colors[i], linewidth=5)\n",
    "                else:\n",
    "                    ax.plot(states[:,0],pred[:,i], label='_nolegend_', c = viridis.colors[i], linewidth=5)\n",
    "            else:\n",
    "                ax.plot(states[:,0],pred[:,i], label=str(actions[i]), c = viridis.colors[i], linewidth=5)\n",
    "            ax.set_xlabel('Returns')\n",
    "            ax.set_ylabel('Q value')\n",
    "            ax.legend()\n",
    "        \n",
    "    else:\n",
    "        viridis = cm.get_cmap('viridis', pred.shape[1])\n",
    "        plt.figure()\n",
    "        for i in range(pred.shape[1]):\n",
    "            if normalize:\n",
    "                if ckpt:\n",
    "                    plt.title('Learned Q function with {} scaler when h = {} at iteration {}'.format(scaler,int(holdings[0]),ckpt_it))\n",
    "                else:\n",
    "                    plt.title('Learned Q function with {} scaler when h = {}'.format(scaler,int(holdings[0])))\n",
    "            else:\n",
    "                if ckpt:\n",
    "                    plt.title('Learned DQN function when h = {} at iteration {}'.format(int(holdings[0]),ckpt_it))\n",
    "                else:\n",
    "                    plt.title('Learned DQN function when h = {}'.format(int(holdings[0])))\n",
    "            if less_labels:\n",
    "                subset_label_idx = np.round(np.linspace(0, len(actions) - 1, n_less_labels)).astype(int)\n",
    "                subset_label = actions[subset_label_idx]\n",
    "                if actions[i] in subset_label:\n",
    "                    plt.plot(states[:,0],pred[:,i], label=str(actions[i]), c = viridis.colors[i], linewidth=5)\n",
    "                else:\n",
    "                    plt.plot(states[:,0],pred[:,i], label='_nolegend_', c = viridis.colors[i], linewidth=5)\n",
    "            else:\n",
    "                plt.plot(states[:,0],pred[:,i], label=str(actions[i]), c = viridis.colors[i], linewidth=5)\n",
    "            plt.xlabel('Returns')\n",
    "            plt.ylabel('Q value')\n",
    "            plt.legend()\n",
    "\n",
    "        \n",
    "def learned_DQN_grid(df, model, actions, holdings, normalize=None):\n",
    "    \n",
    "    lenght = len(holdings)\n",
    "    primes = prime_factors(lenght)\n",
    "    if len(primes) == 1:\n",
    "        m,n = primes[0],1\n",
    "    elif len(primes) == 2:\n",
    "        m,n = primes\n",
    "    elif len(primes) == 3:\n",
    "        m = primes[0] * primes[1]\n",
    "        n = primes[2]\n",
    "    counter=0\n",
    "        \n",
    "    fig = plt.figure(0, figsize=(25,18))\n",
    "    fig.tight_layout()\n",
    "    for i in range(m):\n",
    "        for j in range(n):\n",
    "            ax = plt.subplot2grid((m,n), (i,j))\n",
    "            if normalize:\n",
    "                plot_learned_DQN(df, model,actions, holdings[counter], ax, normalize, less_labels=True, n_less_labels=6)\n",
    "            else:\n",
    "                plot_learned_DQN(df, model,actions, holdings[counter], ax, less_labels=True, n_less_labels=6)\n",
    "            counter += 1\n",
    "            \n",
    "def plot_QValueFunction(QTable,holding=0, aggregation=False, ax=None, normalize=None, scaler='Standard', less_labels=False, n_less_labels = None):\n",
    "\n",
    "    '''\n",
    "    This function accepts the QTable and a dict of parameters as arguments to plot the value function \n",
    "    with respect to the price\n",
    "    '''\n",
    "\n",
    "    # select value for actions\n",
    "    act = QTable.columns\n",
    "    # get color from colormaps\n",
    "    viridis = cm.get_cmap('viridis', len(QTable.columns))\n",
    "    if aggregation:\n",
    "        Q_price = QTable.groupby(level = [0]).sum()\n",
    "        # select values for xaxis\n",
    "        ret = QTable.index.get_level_values(0).unique()\n",
    "\n",
    "        fig, ax = plt.subplots(1,1)\n",
    "        for i in range(0,len(Q_price.columns)):\n",
    "            ax.scatter(ret,Q_price.iloc[:,i],label=Q_price.columns[i], s=15,\n",
    "                       c = viridis.colors[i])\n",
    "\n",
    "    else:\n",
    "        Q_price = QTable[QTable.index.get_level_values('Holding') == holding]\n",
    "        Q_price.index = Q_price.index.droplevel(1)\n",
    "        # index\n",
    "        idx = np.round(np.linspace(0, len(Q_price.index) - 1, 500)).astype(int)\n",
    "        Q_price = Q_price.iloc[idx]\n",
    "        # select values for xaxis\n",
    "        ret = Q_price.index\n",
    "        \n",
    "        if ax:\n",
    "            if normalize:\n",
    "                if scaler == 'Standard':\n",
    "                    Q_price = StandardScaler().fit_transform(Q_price.T)\n",
    "                    Q_price = Q_price.T\n",
    "                elif scaler == 'MinMax':\n",
    "                    Q_price = MinMaxScaler().fit_transform(Q_price.T)\n",
    "                    Q_price = Q_price.T\n",
    "                    \n",
    "                ax.set_title('Learned Q function with {} scaler when h = {}'.format(scaler,int(holding)))\n",
    "                for i in range(0,Q_price.shape[1]):\n",
    "                    if less_labels:\n",
    "                        subset_label_idx = np.round(np.linspace(0, len(act) - 1, n_less_labels)).astype(int)\n",
    "                        subset_label = act[subset_label_idx]\n",
    "                        if act[i] in subset_label:\n",
    "                            ax.scatter(ret,Q_price[:,i],label=act[i], s=15,c = np.repeat(np.atleast_2d(viridis.colors[i]), len(Q_price[:,i]), axis = 0))\n",
    "                        else:\n",
    "                            ax.scatter(ret,Q_price[:,i],label='_nolegend_', s=15,c = np.repeat(np.atleast_2d(viridis.colors[i]), len(Q_price[:,i]), axis = 0))\n",
    "                    else:\n",
    "                        ax.scatter(ret,Q_price[:,i],label=act[i], s=15, c = np.repeat(np.atleast_2d(viridis.colors[i]), len(Q_price[:,i]), axis = 0))\n",
    "            else:\n",
    "                ax.set_title('Learned Q function when h = {}'.format(int(holding)))\n",
    "                for i in range(0,len(Q_price.columns)):\n",
    "                    if less_labels:\n",
    "                        subset_label_idx = np.round(np.linspace(0, len(Q_price.columns) - 1, n_less_labels)).astype(int)\n",
    "                        subset_label = Q_price.columns[subset_label_idx]\n",
    "                        if Q_price.columns[i] in subset_label:\n",
    "                            ax.scatter(ret,Q_price.iloc[:,i].values,label=Q_price.columns[i], s=15,c = np.repeat(np.atleast_2d(viridis.colors[i]),\n",
    "                                                                                                             len(Q_price.iloc[:,i].values), axis = 0))\n",
    "                        else:\n",
    "                            ax.scatter(ret,Q_price.iloc[:,i].values,label='_nolegend_', s=15,c = np.repeat(np.atleast_2d(viridis.colors[i]),\n",
    "                                                                                                             len(Q_price.iloc[:,i].values), axis = 0))\n",
    "                    else:\n",
    "                        ax.scatter(ret,Q_price.iloc[:,i].values,label=Q_price.columns[i], s=15,c = np.repeat(np.atleast_2d(viridis.colors[i]),\n",
    "                                                                                                             len(Q_price.iloc[:,i].values), axis = 0))\n",
    "\n",
    "\n",
    "    \n",
    "            ax.tick_params(axis='both', which='major', labelsize=17)\n",
    "            ax.tick_params(axis='both', which='minor', labelsize=17)\n",
    "            plt.xlabel('Returns',fontsize=17)\n",
    "            plt.ylabel(r'$\\hat{Q}((holding,p),a)$',fontsize=17)\n",
    "            plt.legend(loc=0)\n",
    "        else:\n",
    "            \n",
    "            fig, ax = plt.subplots(1,1)\n",
    "            if normalize:\n",
    "                if scaler == 'Standard':\n",
    "                    Q_price = StandardScaler().fit_transform(Q_price.T)\n",
    "                    Q_price = Q_price.T\n",
    "                elif scaler == 'MinMax':\n",
    "                    Q_price = MinMaxScaler().fit_transform(Q_price.T)\n",
    "                    Q_price = Q_price.T\n",
    "                    \n",
    "                for i in range(0,Q_price.shape[1]):\n",
    "                    if less_labels:\n",
    "                        subset_label_idx = np.round(np.linspace(0, len(act) - 1, n_less_labels)).astype(int)\n",
    "                        subset_label = act[subset_label_idx]\n",
    "                        if act[i] in subset_label:\n",
    "                            ax.scatter(ret,Q_price[:,i],label=act[i], s=15,c = np.repeat(np.atleast_2d(viridis.colors[i]), len(Q_price[:,i]), axis = 0))\n",
    "                        else:\n",
    "                            ax.scatter(ret,Q_price[:,i],label='_nolegend_', s=15,c = np.repeat(np.atleast_2d(viridis.colors[i]), len(Q_price[:,i]), axis = 0))\n",
    "                    else:\n",
    "                        ax.scatter(ret,Q_price[:,i],label=act[i], s=15, c = np.repeat(np.atleast_2d(viridis.colors[i]), len(Q_price[:,i]), axis = 0))\n",
    "                    ax.set_title('Learned Q function with {} scaler when h = {}'.format(scaler,int(holding)))\n",
    "            else:\n",
    "                for i in range(0,len(Q_price.columns)):\n",
    "                    if less_labels:\n",
    "                        subset_label_idx = np.round(np.linspace(0, len(Q_price.columns) - 1, n_less_labels)).astype(int)\n",
    "                        subset_label = Q_price.columns[subset_label_idx]\n",
    "                        if Q_price.columns[i] in subset_label:\n",
    "                            ax.scatter(ret,Q_price.iloc[:,i].values,label=Q_price.columns[i], s=15,\n",
    "                               c = np.repeat(np.atleast_2d(viridis.colors[i]), len(Q_price.iloc[:,i].values), axis = 0))\n",
    "                        else:\n",
    "                            ax.scatter(ret,Q_price.iloc[:,i].values,label='_nolabel_', s=15,\n",
    "                               c = np.repeat(np.atleast_2d(viridis.colors[i]), len(Q_price.iloc[:,i].values), axis = 0))\n",
    "                    else:\n",
    "                        ax.scatter(ret,Q_price.iloc[:,i].values,label=Q_price.columns[i], s=15,\n",
    "                               c = np.repeat(np.atleast_2d(viridis.colors[i]), len(Q_price.iloc[:,i].values), axis = 0))\n",
    "                    ax.set_title('Learned Q function with {} scaler when h = {}'.format(scaler,int(holding)))\n",
    "\n",
    "                    ax.set_title('Learned Q function when h = {}'.format(int(holding)))\n",
    "\n",
    "    \n",
    "            ax.tick_params(axis='both', which='major', labelsize=17)\n",
    "            ax.tick_params(axis='both', which='minor', labelsize=17)\n",
    "            plt.xlabel('Returns',fontsize=17)\n",
    "            plt.ylabel(r'$\\hat{Q}((holding,p),a)$',fontsize=17)\n",
    "            plt.legend(loc=0)\n",
    "    return Q_price\n",
    "\n",
    "def learned_Q_grid(Q, holdings, normalize=None):\n",
    "    \n",
    "    lenght = len(holdings)\n",
    "    primes = prime_factors(lenght)\n",
    "    if len(primes) == 1:\n",
    "        m,n = primes[0],1\n",
    "    elif len(primes) == 2:\n",
    "        m,n = primes\n",
    "    elif len(primes) == 3:\n",
    "        m = primes[0] * primes[1]\n",
    "        n = primes[2]\n",
    "    counter=0\n",
    "        \n",
    "    fig = plt.figure(0, figsize=(25,18))\n",
    "    fig.tight_layout()\n",
    "    for i in range(m):\n",
    "        for j in range(n):\n",
    "            ax = plt.subplot2grid((m,n), (i,j))\n",
    "            if normalize:\n",
    "                plot_QValueFunction(Q,holdings[counter], ax=ax, normalize=normalize, less_labels=True, n_less_labels=6)\n",
    "            else:\n",
    "                plot_QValueFunction(Q,holdings[counter], ax=ax, less_labels=True, n_less_labels=6)\n",
    "            counter += 1  \n",
    "            \n",
    "            \n",
    "\n",
    "    "
   ]
  },
  {
   "cell_type": "code",
   "execution_count": null,
   "metadata": {},
   "outputs": [],
   "source": [
    "model, actions = load_DQNmodel(p, data_dir)\n",
    "plot_learned_DQN(df, model, actions, 0, less_labels=True, n_less_labels=6)"
   ]
  },
  {
   "cell_type": "code",
   "execution_count": null,
   "metadata": {},
   "outputs": [],
   "source": [
    "if p['executeRL']:\n",
    "    plt.rcParams['figure.figsize'] = (20.0, 10.0)\n",
    "    Q_price = plot_QValueFunction(Q,0, less_labels=True, n_less_labels=6)"
   ]
  },
  {
   "cell_type": "code",
   "execution_count": null,
   "metadata": {},
   "outputs": [],
   "source": [
    "if not p['std_rwds']:\n",
    "    if p['executeDRL'] and p['executeRL']:\n",
    "        m,n = 2,3\n",
    "        normalize = True\n",
    "        fig = plt.figure(0, figsize=(40,25))\n",
    "        fig.tight_layout()\n",
    "        for i in range(m):\n",
    "            for j in range(n):\n",
    "                ax = plt.subplot2grid((m,n), (i,j))\n",
    "                if i == 0 and j == 0:\n",
    "                    plot_learned_DQN(df, model, actions, 0, ax=ax, less_labels=True, n_less_labels=6)\n",
    "                elif i == 0 and j == 1:\n",
    "                    plot_learned_DQN(df, model, actions, 0, ax=ax, normalize=normalize, scaler='Standard', less_labels=True, n_less_labels=6)\n",
    "                elif i == 0 and j == 2:\n",
    "                    plot_learned_DQN(df, model, actions, 0, ax=ax, normalize=normalize, scaler='MinMax', less_labels=True, n_less_labels=6)\n",
    "                elif i == 1 and j == 0:\n",
    "                    plot_QValueFunction(Q,0, ax=ax, less_labels=True, n_less_labels=6)\n",
    "                elif i == 1 and j == 1:\n",
    "                    plot_QValueFunction(Q,0, ax=ax, normalize=normalize, scaler='Standard', less_labels=True, n_less_labels=6)\n",
    "                elif i == 1 and j == 2:\n",
    "                    plot_QValueFunction(Q,0, ax=ax, normalize=normalize, scaler='MinMax', less_labels=True, n_less_labels=6)\n",
    "                else:\n",
    "                    print('Out of range!')"
   ]
  },
  {
   "cell_type": "markdown",
   "metadata": {},
   "source": [
    "## DQN Checkpoints"
   ]
  },
  {
   "cell_type": "code",
   "execution_count": null,
   "metadata": {},
   "outputs": [],
   "source": [
    "def plot_DQN_checkpoints(data_dir):\n",
    "    \n",
    "    checkpoints = [each for each in os.listdir(os.path.join(data_dir,'ckpt')) if each.endswith('.index')]\n",
    "    its = [re.findall(r'\\d+', ckpts) for ckpts in checkpoints]\n",
    "    its = sorted([int(item) for sublist in its for item in sublist])\n",
    "    \n",
    "    for it in its:\n",
    "        model, actions = load_DQNmodel(p, data_dir, ckpt=True, ckpt_it=it)\n",
    "        plot_learned_DQN(df, model, actions, 0, less_labels=True, n_less_labels=6, ckpt=True, ckpt_it=it)\n",
    "        plt.show()"
   ]
  },
  {
   "cell_type": "code",
   "execution_count": null,
   "metadata": {},
   "outputs": [],
   "source": [
    "plot_DQN_checkpoints(data_dir)"
   ]
  },
  {
   "cell_type": "code",
   "execution_count": null,
   "metadata": {},
   "outputs": [],
   "source": [
    "##### RANDOM HOLDINGS\n",
    "# np.random.choice(df['NextHolding_DQN'].value_counts().index.tolist(),4)\n",
    "# learned_DQN_holding = np.random.choice(df['NextHolding_DQN'].value_counts().index.tolist(),5)\n",
    "# learned_DQN_holding = [i for i in learned_DQN_holding if i != 0][:4]\n",
    "# learned_DQN_grid(df, model, actions, learned_DQN_holding)\n",
    "# plt.show()\n",
    "# if not p['std_rwds']:\n",
    "#     learned_DQN_grid(df, model, actions, learned_DQN_holding, True)\n",
    "#     plt.show()\n",
    "\n",
    "# if p['executeRL']:\n",
    "#     learned_Q_holding = np.random.choice(df['NextHolding_Q'].value_counts().index.tolist(),5)\n",
    "#     learned_Q_holding = [i for i in learned_Q_holding if i != 0][:4]\n",
    "#     learned_Q_grid(Q, learned_Q_holding)\n",
    "#     plt.show()\n",
    "# if p['executeRL'] and not p['std_rwds']:\n",
    "#     plt.rcParams['figure.figsize'] = (20.0, 10.0)\n",
    "#     learned_Q_grid(Q, learned_Q_holding, normalize=True)\n",
    "#     plt.show()"
   ]
  },
  {
   "cell_type": "code",
   "execution_count": null,
   "metadata": {},
   "outputs": [],
   "source": [
    "#### CODE TO TEST PLOTS\n",
    "# # select value for actions\n",
    "# act = Q.columns\n",
    "# # get color from colormaps\n",
    "# viridis = cm.get_cmap('viridis', len(Q.columns))\n",
    "# holding=0\n",
    "\n",
    "# Q_price = Q[Q.index.get_level_values('Holding') == holding]\n",
    "# Q_price.index = Q_price.index.droplevel(1)\n",
    "# # index\n",
    "# idx = np.round(np.linspace(0, len(Q_price.index) - 1, 500)).astype(int)\n",
    "# Q_price = Q_price.iloc[idx]\n",
    "# # select values for xaxis\n",
    "# ret = Q_price.index\n",
    "\n",
    "# fig, ax = plt.subplots(1,1)\n",
    "# #Q_price_std = MinMaxScaler().fit_transform(Q_price)\n",
    "# Q_price_orig = Q_price.values\n",
    "\n",
    "# for i in range(0,Q_price.shape[1]):\n",
    "#     if i==0 or i == 4:\n",
    "#         ax.scatter(ret,Q_price_orig[:,i],label=act[i], s=15, c = np.repeat(np.atleast_2d(viridis.colors[i]), len(Q_price_orig[:,i]), axis = 0))\n",
    "#     plt.legend()\n",
    "    \n",
    "# fig, ax = plt.subplots(1,1)\n",
    "# Q_price_std = MinMaxScaler().fit_transform(Q_price.T)\n",
    "# Q_price_std = Q_price_std.T\n",
    "\n",
    "# for i in range(0,Q_price.shape[1]):\n",
    "\n",
    "#     ax.scatter(ret,Q_price_std[:,i],label=act[i], s=15, c = np.repeat(np.atleast_2d(viridis.colors[i]), len(Q_price_std[:,i]), axis = 0))\n",
    "#     plt.legend()"
   ]
  },
  {
   "cell_type": "markdown",
   "metadata": {},
   "source": [
    "# Best Actions"
   ]
  },
  {
   "cell_type": "code",
   "execution_count": null,
   "metadata": {},
   "outputs": [],
   "source": [
    "def plot_BestQActions(QTable,aggregation=False, holding=0, ax=None, optsol=None):\n",
    "\n",
    "    if aggregation:\n",
    "        Q_price = QTable.groupby(level = [0]).sum()\n",
    "        Q_action = Q_price.idxmax(axis = 1).astype(float)\n",
    "\n",
    "        fig, ax = plt.subplots(1,1)\n",
    "        ax.plot(Q_action)\n",
    "\n",
    "    else:\n",
    "        Q_price = QTable[QTable.index.get_level_values('Holding') == holding]\n",
    "        Q_price.index = Q_price.index.droplevel(1)\n",
    "        Q_action = Q_price.idxmax(axis = 1).astype(float)\n",
    "\n",
    "        if ax:\n",
    "            ax.plot(Q_action,label = 'Q Action')\n",
    "            if optsol:\n",
    "                ret = np.array(Q_price.index.unique())\n",
    "                optactions = compute_optimal_actions(ret,p,holding)\n",
    "                ax.plot(Q_price.index.unique(),optactions/10, label='Optimal Action')\n",
    "                plt.legend()\n",
    "        else:\n",
    "            fig, ax = plt.subplots(1,1)\n",
    "            ax.plot(Q_action, label = 'Q Action')\n",
    "            if optsol:\n",
    "                ret = np.array(Q_price.index.unique())\n",
    "                optactions = compute_optimal_actions(ret,p,holding)\n",
    "                ax.plot(Q_price.index.unique(),optactions/10, label='Optimal Action')\n",
    "                plt.legend()\n",
    "    plt.title('Best Q action by level of returns when holding={}'.format(int(holding)))\n",
    "    ax.tick_params(axis='both', which='major', labelsize=17)\n",
    "    ax.tick_params(axis='both', which='minor', labelsize=17)\n",
    "    plt.xlabel('Returns',fontsize=17)\n",
    "    plt.ylabel('Best Action',fontsize=17)\n",
    "\n",
    "def BestQActions_grid(Q, holdings, optsol=None):\n",
    "    \n",
    "    lenght = len(holdings)\n",
    "    primes = prime_factors(lenght)\n",
    "    if len(primes) == 1:\n",
    "        m,n = primes[0],1\n",
    "    elif len(primes) == 2:\n",
    "        m,n = primes\n",
    "    elif len(primes) == 3:\n",
    "        m = primes[0] * primes[1]\n",
    "        n = primes[2]\n",
    "    counter=0\n",
    "        \n",
    "    fig = plt.figure(0, figsize=(25,18))\n",
    "    fig.tight_layout()\n",
    "    for i in range(m):\n",
    "        for j in range(n):\n",
    "            ax = plt.subplot2grid((m,n), (i,j))\n",
    "            plot_BestQActions(Q,aggregation=False, holding=holdings[counter], ax=ax, optsol=optsol)\n",
    "            counter += 1    \n",
    "    \n",
    "def plot_BestDQNActions(p, df, model, holding, ax=None, optsol=None):\n",
    "    \n",
    "    actions = np.arange(-p['KLM'][0], p['KLM'][0] + 1, p['KLM'][1])\n",
    "    sample_Ret = np.linspace(df['returns'].min(), df['returns'].max(), 100)\n",
    "    if holding == 0:\n",
    "        holdings = np.zeros(len(sample_Ret))\n",
    "    else:\n",
    "        holdings = np.ones(len(sample_Ret)) * holding\n",
    "    \n",
    "    states = tf.constant(np.hstack((sample_Ret.reshape(-1,1), holdings.reshape(-1,1))), dtype=tf.float32)\n",
    "    pred = model(states,training=False)\n",
    "\n",
    "    max_action = actions[tf.math.argmax(pred, axis=1)]\n",
    "    if ax:\n",
    "        ax.plot(sample_Ret,max_action,linewidth=5, label='DQN Action')\n",
    "        if optsol:\n",
    "            optactions = compute_optimal_actions(sample_Ret,p,holding)\n",
    "            ax.plot(sample_Ret,optactions/10,linewidth=5, label='Optimal Action')\n",
    "            plt.legend()\n",
    "        ax.set_title('Best DQN action by level of returns when holding={}'.format(int(holding)))\n",
    "        ax.set_xlabel('Returns')\n",
    "        ax.set_ylabel('Best DQN Action')\n",
    "    else:\n",
    "        plt.figure()\n",
    "        plt.title('Best DQN action by level of returns when holding={}'.format(int(holding)))\n",
    "        plt.plot(sample_Ret,max_action,linewidth=5, label='DQN Actions')\n",
    "        if optsol:\n",
    "            optactions = compute_optimal_actions(sample_Ret,p,holding)\n",
    "            plt.plot(sample_Ret,optactions/10,linewidth=5, label='Optimal Action')\n",
    "            plt.legend()\n",
    "        plt.xlabel('Returns')\n",
    "        plt.ylabel('Best DQN Action')\n",
    "    \n",
    "def BestDQNActions_grid(p, df, model, holdings, optsol= None):\n",
    "    \n",
    "    lenght = len(holdings)\n",
    "    primes = prime_factors(lenght)\n",
    "    if len(primes) == 1:\n",
    "        m,n = primes[0],1\n",
    "    elif len(primes) == 2:\n",
    "        m,n = primes\n",
    "    elif len(primes) == 3:\n",
    "        m = primes[0] * primes[1]\n",
    "        n = primes[2]\n",
    "    counter=0\n",
    "        \n",
    "    fig = plt.figure(0, figsize=(25,18))\n",
    "    fig.tight_layout()\n",
    "    for i in range(m):\n",
    "        for j in range(n):\n",
    "            ax = plt.subplot2grid((m,n), (i,j))\n",
    "            plot_BestDQNActions(p, df, model, holdings[counter], ax, optsol)\n",
    "            counter += 1   \n",
    "            \n",
    "def compute_optimal_actions(ret,p, holding):\n",
    "    \n",
    "    OptRate, DiscFactorLoads, lambdas = opt_trading_rate_disc_loads(p)\n",
    "    aim = (1/(p['kappa'] * (p['sigma'])**2)) *  ((DiscFactorLoads/p['f_param']) * ret)\n",
    "    nexthold = (1-OptRate) * holding + OptRate * aim\n",
    "    actions = nexthold - holding\n",
    "    return actions"
   ]
  },
  {
   "cell_type": "code",
   "execution_count": null,
   "metadata": {},
   "outputs": [],
   "source": [
    "# ret = np.array(Q.index.get_level_values(0).unique())\n",
    "# OptRate, DiscFactorLoads, lambdas = opt_trading_rate_disc_loads(p)\n",
    "# # aim = (1/(p['kappa'] * (p['sigma'][0])**2)) *  (DiscFactorLoads * df['factor_10'].values)\n",
    "# aim = (1/(p['kappa'] * (p['sigma'][0])**2)) *  ((DiscFactorLoads/p['f_param']) * ret)\n",
    "# fig, ax = plt.subplots(1,1)\n",
    "# holds = [0, 100000, 1000000,10000000, -10000000,-100000, -1000000]\n",
    "# for h in holds:\n",
    "#     nexthold = (1-OptRate) * h + OptRate * aim\n",
    "#     actions = nexthold - h\n",
    "#     ax.plot(ret,actions)\n",
    "# plt.legend(holds)"
   ]
  },
  {
   "cell_type": "code",
   "execution_count": null,
   "metadata": {},
   "outputs": [],
   "source": [
    "plot_BestDQNActions(p, df, model, 0)\n",
    "if df.filter(like='factor').shape[1] == 1:\n",
    "    plot_BestDQNActions(p, df, model, 0, optsol=True)\n",
    "# BestDQNActions_grid(p, df, model, learned_DQN_holding)\n",
    "# if df.filter(like='factor').shape[1] == 1:\n",
    "#     BestDQNActions_grid(p, df, model, learned_DQN_holding, optsol=True)"
   ]
  },
  {
   "cell_type": "code",
   "execution_count": null,
   "metadata": {},
   "outputs": [],
   "source": [
    "if p['executeRL']:\n",
    "    plot_BestQActions(Q,aggregation=False, holding=0)\n",
    "    if df.filter(like='factor').shape[1] == 1:\n",
    "        plot_BestQActions(Q,aggregation=False, holding=0, optsol=True)\n",
    "#     BestQActions_grid(Q,learned_Q_holding)\n",
    "#     if df.filter(like='factor').shape[1] == 1:\n",
    "#         BestQActions_grid(Q,learned_Q_holding, optsol=True)"
   ]
  },
  {
   "cell_type": "markdown",
   "metadata": {},
   "source": [
    "# Out-of-sample Test\n",
    "\n",
    "## Stats"
   ]
  },
  {
   "cell_type": "code",
   "execution_count": null,
   "metadata": {},
   "outputs": [],
   "source": [
    "df_test.head()"
   ]
  },
  {
   "cell_type": "code",
   "execution_count": null,
   "metadata": {},
   "outputs": [],
   "source": [
    "# stats for algorithm solution\n",
    "if p['executeDRL']: \n",
    "    display(df_test.filter(like='_DQN').describe())"
   ]
  },
  {
   "cell_type": "markdown",
   "metadata": {},
   "source": [
    "TabQ stats (if any)"
   ]
  },
  {
   "cell_type": "code",
   "execution_count": null,
   "metadata": {},
   "outputs": [],
   "source": [
    "# stats for optimal solution\n",
    "if p['executeRL']:\n",
    "    display(df_test.filter(like='_Q').describe())"
   ]
  },
  {
   "cell_type": "markdown",
   "metadata": {},
   "source": [
    "Optimal stats"
   ]
  },
  {
   "cell_type": "code",
   "execution_count": null,
   "metadata": {},
   "outputs": [],
   "source": [
    "if p['executeGP']:\n",
    "    display(df_test.filter(like='Opt').describe())"
   ]
  },
  {
   "cell_type": "markdown",
   "metadata": {},
   "source": [
    "Comparison with optimal stats"
   ]
  },
  {
   "cell_type": "code",
   "execution_count": null,
   "metadata": {},
   "outputs": [],
   "source": [
    "# compare the two\n",
    "if p['executeDRL']: \n",
    "    display(df_test[['Action_DQN','OptNextAction','NextHolding_DQN','OptNextHolding','NetPNL_DQN','OptNetPNL', \n",
    "                'Risk_DQN', 'OptRisk', 'Reward_DQN', 'OptReward' ]].round(0).describe())\n",
    "\n",
    "if p['executeRL']: \n",
    "    display(df_test[['Action_Q','OptNextAction','NextHolding_Q','OptNextHolding','NetPNL_Q','OptNetPNL', \n",
    "                'Risk_Q', 'OptRisk', 'Reward_Q', 'OptReward' ]].round(0).describe())"
   ]
  },
  {
   "cell_type": "markdown",
   "metadata": {},
   "source": [
    "## Action histograms"
   ]
  },
  {
   "cell_type": "code",
   "execution_count": null,
   "metadata": {},
   "outputs": [],
   "source": [
    "actions = np.arange(-p['KLM'][0], p['KLM'][0] + 1, p['KLM'][1])\n",
    "num_actions = len(actions)\n",
    "if p['executeDRL']:\n",
    "    plt.figure()\n",
    "    df_test['Action_DQN'].plot(kind='hist', bins=num_actions, label='Action_DQN')\n",
    "    plt.legend()\n",
    "if p['executeRL']:\n",
    "    plt.figure()\n",
    "    df_test['Action_Q'].plot(kind='hist', bins=num_actions, label='Action_Q')\n",
    "    plt.legend()\n",
    "if p['executeGP']:\n",
    "    plt.figure()\n",
    "    df_test['OptNextAction'].plot(kind='hist', bins=num_actions, label='OptNextAction')\n",
    "    plt.legend()"
   ]
  },
  {
   "cell_type": "markdown",
   "metadata": {},
   "source": [
    "## Correlations"
   ]
  },
  {
   "cell_type": "code",
   "execution_count": null,
   "metadata": {},
   "outputs": [],
   "source": [
    "pairs = [['NextHolding','OptNextHolding'],['Action','OptNextAction'],['Action','returns']]\n",
    "optpair = [['OptNextAction', 'returns']]\n",
    "start = 0\n",
    "step = p['N_test']\n",
    "end = p['N_test']\n",
    "\n",
    "if p['executeDRL'] and p['executeGP']:\n",
    "    corr_DQN = Compute_Corr(df_test, pairs, start, step, end, 'DQN')\n",
    "if p['executeRL'] and p['executeGP']:\n",
    "    corr_Q = Compute_Corr(df_test, pairs, start, step, end, 'Q')\n",
    "\n",
    "corr_opt = Compute_Corr(df_test, optpair, start, step, end)\n",
    "\n",
    "if p['executeDRL'] and p['executeRL'] and p['executeGP']:\n",
    "    tot_corr = pd.concat([corr_DQN,corr_Q,corr_opt], axis=1)\n",
    "elif p['executeDRL'] and not p['executeRL'] and p['executeGP']:\n",
    "    tot_corr = pd.concat([corr_DQN,corr_opt], axis=1)\n",
    "elif not p['executeDRL'] and p['executeRL'] and p['executeGP']:\n",
    "    tot_corr = pd.concat([corr_Q,corr_opt], axis=1)\n",
    "    \n",
    "display(tot_corr)"
   ]
  },
  {
   "cell_type": "markdown",
   "metadata": {},
   "source": [
    "## PnL and Rewards"
   ]
  },
  {
   "cell_type": "code",
   "execution_count": null,
   "metadata": {},
   "outputs": [],
   "source": [
    "stock_pairs = [['NextHolding','OptNextHolding'],['Risk', 'OptRisk'], ['Cost', 'OptCost']]\n",
    "cum_pairs = [['GrossPNL','OptGrossPNL'],['NetPNL','OptNetPNL'], ['Reward', 'OptReward'], ['Cost', 'OptCost']]"
   ]
  },
  {
   "cell_type": "code",
   "execution_count": null,
   "metadata": {},
   "outputs": [],
   "source": [
    "if p['executeDRL']:\n",
    "    plot_portfolio_quantities(df_test,stock_pairs, 'DQN', 'stock', False, p)\n",
    "    plot_portfolio_quantities(df_test,stock_pairs, 'DQN', 'stock', True, p)\n",
    "if p['executeRL']:\n",
    "    plot_portfolio_quantities(df_test,stock_pairs, 'Q', 'stock', False, p)\n",
    "    plot_portfolio_quantities(df_test,stock_pairs, 'Q', 'stock', True, p)"
   ]
  },
  {
   "cell_type": "code",
   "execution_count": null,
   "metadata": {},
   "outputs": [],
   "source": [
    "if p['executeDRL']:\n",
    "    plot_portfolio_quantities(df_test,cum_pairs, 'DQN', 'cum', False, p)\n",
    "    plot_portfolio_quantities(df_test,cum_pairs, 'DQN', 'cum', True, p)\n",
    "if p['executeRL']:\n",
    "    plot_portfolio_quantities(df_test,cum_pairs, 'Q', 'cum', False,p)\n",
    "    plot_portfolio_quantities(df_test,cum_pairs, 'Q', 'cum', True,p)"
   ]
  },
  {
   "cell_type": "markdown",
   "metadata": {},
   "source": [
    "## Out-of.sample Regression"
   ]
  },
  {
   "cell_type": "code",
   "execution_count": null,
   "metadata": {},
   "outputs": [],
   "source": [
    "if p['executeDRL']:\n",
    "    ols_res_DQN = run_regression(df_test,p,'DQN')\n",
    "if p['executeRL']:\n",
    "    ols_res_Q = run_regression(df_test,p, 'Q')\n",
    "if p['executeGP']:\n",
    "    opt_ols_res, c1, c2 = run_optimal_regression(df_test,p)"
   ]
  },
  {
   "cell_type": "code",
   "execution_count": null,
   "metadata": {},
   "outputs": [],
   "source": [
    "print('Coefficient 1: ',c1)\n",
    "print('Coefficient 2: ',c2)"
   ]
  },
  {
   "cell_type": "markdown",
   "metadata": {},
   "source": [
    "### Optimal regression "
   ]
  },
  {
   "cell_type": "code",
   "execution_count": null,
   "metadata": {},
   "outputs": [],
   "source": [
    "opt_ols_res.summary()"
   ]
  },
  {
   "cell_type": "code",
   "execution_count": null,
   "metadata": {},
   "outputs": [],
   "source": [
    "OptRate, _, _ = opt_trading_rate_disc_loads(p)\n",
    "print('Value 1: ',c1)\n",
    "print('Value 2: ',c2)"
   ]
  },
  {
   "cell_type": "code",
   "execution_count": null,
   "metadata": {},
   "outputs": [],
   "source": [
    "# plt.rcParams['figure.figsize'] = (10.0, 8.0)\n",
    "# sns.distplot(opt_ols_res.resid)"
   ]
  },
  {
   "cell_type": "code",
   "execution_count": null,
   "metadata": {},
   "outputs": [],
   "source": [
    "# sm.qqplot(opt_ols_res.resid, line='r') \n",
    "# pass"
   ]
  },
  {
   "cell_type": "markdown",
   "metadata": {},
   "source": [
    "### DQN regression"
   ]
  },
  {
   "cell_type": "code",
   "execution_count": null,
   "metadata": {},
   "outputs": [],
   "source": [
    "if p['executeDRL']:\n",
    "    display(ols_res_DQN.summary())"
   ]
  },
  {
   "cell_type": "code",
   "execution_count": null,
   "metadata": {},
   "outputs": [],
   "source": [
    "# if p['executeDRL']:\n",
    "#     sns.distplot(ols_res_DQN.resid)"
   ]
  },
  {
   "cell_type": "markdown",
   "metadata": {},
   "source": [
    "### Tabular Q regression"
   ]
  },
  {
   "cell_type": "code",
   "execution_count": null,
   "metadata": {},
   "outputs": [],
   "source": [
    "if p['executeRL']:\n",
    "    display(ols_res_Q.summary())"
   ]
  },
  {
   "cell_type": "code",
   "execution_count": null,
   "metadata": {},
   "outputs": [],
   "source": [
    "if p['executeRL']:\n",
    "    ols_res_Q.resid.sum()"
   ]
  },
  {
   "cell_type": "code",
   "execution_count": null,
   "metadata": {},
   "outputs": [],
   "source": [
    "# if p['executeRL']:\n",
    "#     sns.distplot(ols_res_Q.resid)"
   ]
  },
  {
   "cell_type": "code",
   "execution_count": null,
   "metadata": {},
   "outputs": [],
   "source": [
    "# trick to disable code before exporting the notebook results as pdf\n",
    "HTML('''<script>\n",
    "code_show=true; \n",
    "function code_toggle() {\n",
    " if (code_show){\n",
    " $('div.input').hide();\n",
    " } else {\n",
    " $('div.input').show();\n",
    " }\n",
    " code_show = !code_show\n",
    "} \n",
    "$( document ).ready(code_toggle);\n",
    "</script>\n",
    "The raw code for this IPython notebook is by default hidden for easier reading.\n",
    "To toggle on/off the raw code, click <a href=\"javascript:code_toggle()\">here</a>.''')"
   ]
  },
  {
   "cell_type": "code",
   "execution_count": null,
   "metadata": {},
   "outputs": [],
   "source": []
  },
  {
   "cell_type": "code",
   "execution_count": null,
   "metadata": {},
   "outputs": [],
   "source": []
  }
 ],
 "metadata": {
  "kernelspec": {
   "display_name": "Python 3",
   "language": "python",
   "name": "python3"
  },
  "language_info": {
   "codemirror_mode": {
    "name": "ipython",
    "version": 3
   },
   "file_extension": ".py",
   "mimetype": "text/x-python",
   "name": "python",
   "nbconvert_exporter": "python",
   "pygments_lexer": "ipython3",
   "version": "3.6.9"
  },
  "toc": {
   "base_numbering": 1,
   "nav_menu": {},
   "number_sections": true,
   "sideBar": true,
   "skip_h1_title": false,
   "title_cell": "Table of Contents",
   "title_sidebar": "Contents",
   "toc_cell": false,
   "toc_position": {
    "height": "calc(100% - 180px)",
    "left": "10px",
    "top": "150px",
    "width": "341.306px"
   },
   "toc_section_display": true,
   "toc_window_display": true
  },
  "toc-autonumbering": true,
  "toc-showcode": false,
  "toc-showtags": false,
  "varInspector": {
   "cols": {
    "lenName": 16,
    "lenType": 16,
    "lenVar": 40
   },
   "kernels_config": {
    "python": {
     "delete_cmd_postfix": "",
     "delete_cmd_prefix": "del ",
     "library": "var_list.py",
     "varRefreshCmd": "print(var_dic_list())"
    },
    "r": {
     "delete_cmd_postfix": ") ",
     "delete_cmd_prefix": "rm(",
     "library": "var_list.r",
     "varRefreshCmd": "cat(var_dic_list()) "
    }
   },
   "position": {
    "height": "144px",
    "left": "1335.67px",
    "right": "20px",
    "top": "120px",
    "width": "350px"
   },
   "types_to_exclude": [
    "module",
    "function",
    "builtin_function_or_method",
    "instance",
    "_Feature"
   ],
   "window_display": false
  }
 },
 "nbformat": 4,
 "nbformat_minor": 4
}
